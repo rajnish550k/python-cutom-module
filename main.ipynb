{
 "cells": [
  {
   "cell_type": "code",
   "execution_count": 1,
   "id": "134e2d41-35d0-42ec-9607-78cafda043ca",
   "metadata": {},
   "outputs": [
    {
     "name": "stdout",
     "output_type": "stream",
     "text": [
      "test@example.com has a valid format.\n",
      "The domain of test@example.com exists.\n"
     ]
    }
   ],
   "source": [
    "import email_validator\n",
    "\n",
    "email = \"test@example.com\"\n",
    "\n",
    "if email_validator.validate_email(email):\n",
    "    print(f\"{email} has a valid format.\")\n",
    "else:\n",
    "    print(f\"{email} has an invalid format.\")\n",
    "\n",
    "if email_validator.domain_exists(email):\n",
    "    print(f\"The domain of {email} exists.\")\n",
    "else:\n",
    "    print(f\"The domain of {email} does not exist.\")\n"
   ]
  },
  {
   "cell_type": "code",
   "execution_count": null,
   "id": "7ae8c12f-b525-4c48-8843-a0d675547d9e",
   "metadata": {},
   "outputs": [],
   "source": []
  }
 ],
 "metadata": {
  "kernelspec": {
   "display_name": "Python 3 (ipykernel)",
   "language": "python",
   "name": "python3"
  },
  "language_info": {
   "codemirror_mode": {
    "name": "ipython",
    "version": 3
   },
   "file_extension": ".py",
   "mimetype": "text/x-python",
   "name": "python",
   "nbconvert_exporter": "python",
   "pygments_lexer": "ipython3",
   "version": "3.12.4"
  }
 },
 "nbformat": 4,
 "nbformat_minor": 5
}
